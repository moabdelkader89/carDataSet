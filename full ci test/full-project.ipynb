{
 "cells": [
  {
   "cell_type": "code",
   "execution_count": 5,
   "metadata": {},
   "outputs": [
    {
     "name": "stdout",
     "output_type": "stream",
     "text": [
      "     Unnamed: 0         make fuel_type aspiration num_of_doors   body_style  \\\n",
      "0             1  alfa-romero       gas        std          two  convertible   \n",
      "1             2  alfa-romero       gas        std          two  convertible   \n",
      "2             3  alfa-romero       gas        std          two    hatchback   \n",
      "3             4         audi       gas        std         four        sedan   \n",
      "4             5         audi       gas        std         four        sedan   \n",
      "..          ...          ...       ...        ...          ...          ...   \n",
      "200         201        volvo       gas        std         four        sedan   \n",
      "201         202        volvo       gas      turbo         four        sedan   \n",
      "202         203        volvo       gas        std         four        sedan   \n",
      "203         204        volvo    diesel      turbo         four        sedan   \n",
      "204         205        volvo       gas      turbo         four        sedan   \n",
      "\n",
      "    drive_wheels engine_location  wheel_base  length  ...  engine_type  \\\n",
      "0            rwd           front        88.6   168.8  ...         dohc   \n",
      "1            rwd           front        88.6   168.8  ...         dohc   \n",
      "2            rwd           front        94.5   171.2  ...         ohcv   \n",
      "3            fwd           front        99.8   176.6  ...          ohc   \n",
      "4            4wd           front        99.4   176.6  ...          ohc   \n",
      "..           ...             ...         ...     ...  ...          ...   \n",
      "200          rwd           front       109.1   188.8  ...          ohc   \n",
      "201          rwd           front       109.1   188.8  ...          ohc   \n",
      "202          rwd           front       109.1   188.8  ...         ohcv   \n",
      "203          rwd           front       109.1   188.8  ...          ohc   \n",
      "204          rwd           front       109.1   188.8  ...          ohc   \n",
      "\n",
      "     num_of_cylinders  engine_size fuel_system compression_ratio  horsepower  \\\n",
      "0                four          130        mpfi               9.0         111   \n",
      "1                four          130        mpfi               9.0         111   \n",
      "2                 six          152        mpfi               9.0         154   \n",
      "3                four          109        mpfi              10.0         102   \n",
      "4                five          136        mpfi               8.0         115   \n",
      "..                ...          ...         ...               ...         ...   \n",
      "200              four          141        mpfi               9.5         114   \n",
      "201              four          141        mpfi               8.7         160   \n",
      "202               six          173        mpfi               8.8         134   \n",
      "203               six          145         idi              23.0         106   \n",
      "204              four          141        mpfi               9.5         114   \n",
      "\n",
      "    peak_rpm  city_mpg highway_mpg  price  \n",
      "0       5000        21          27  13495  \n",
      "1       5000        21          27  16500  \n",
      "2       5000        19          26  16500  \n",
      "3       5500        24          30  13950  \n",
      "4       5500        18          22  17450  \n",
      "..       ...       ...         ...    ...  \n",
      "200     5400        23          28  16845  \n",
      "201     5300        19          25  19045  \n",
      "202     5500        18          23  21485  \n",
      "203     4800        26          27  22470  \n",
      "204     5400        19          25  22625  \n",
      "\n",
      "[205 rows x 23 columns]\n"
     ]
    },
    {
     "data": {
      "image/png": "[encoded data removed]",
      "text/plain": [
       "<Figure size 640x480 with 1 Axes>"
      ]
     },
     "metadata": {},
     "output_type": "display_data"
    }
   ],
   "source": [
    "import pandas as pd\n",
    "import numpy as np\n",
    "import matplotlib.pyplot as mat\n",
    "df=pd.read_csv(r\"C:\\Users\\mohamed\\Desktop\\carDataSet\\car_data.csv\")\n",
    "x=df['num_of_doors'].head(10)\n",
    "y=df['price'].head(10)\n",
    "mat.scatter(y,x,marker='*')\n",
    "mat.show\n",
    "print(df)"
   ]
  }
 ],
 "metadata": {
  "kernelspec": {
   "display_name": "Python 3",
   "language": "python",
   "name": "python3"
  },
  "language_info": {
   "codemirror_mode": {
    "name": "ipython",
    "version": 3
   },
   "file_extension": ".py",
   "mimetype": "text/x-python",
   "name": "python",
   "nbconvert_exporter": "python",
   "pygments_lexer": "ipython3",
   "version": "3.12.3"
  }
 },
 "nbformat": 4,
 "nbformat_minor": 2
}
